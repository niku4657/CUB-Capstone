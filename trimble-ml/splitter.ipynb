{
 "cells": [
  {
   "cell_type": "code",
   "execution_count": null,
   "metadata": {},
   "outputs": [],
   "source": [
    "import cv2"
   ]
  },
  {
   "cell_type": "code",
   "execution_count": null,
   "metadata": {},
   "outputs": [],
   "source": [
    "def videoCrop (toCrop, outName, x = 0, y = 0, h = None, w = None, debug = 0):\n",
    "    \n",
    "    # Video in streamer\n",
    "    video = cv2.VideoCapture(toCrop)\n",
    "    \n",
    "    # Video Meta-data\n",
    "    w_frame, h_frame = int(video.get(cv2.CAP_PROP_FRAME_WIDTH)), int(video.get(cv2.CAP_PROP_FRAME_HEIGHT))\n",
    "    fps, frames = video.get(cv2.CAP_PROP_FPS), video.get(cv2.CAP_PROP_FRAME_COUNT)\n",
    "    \n",
    "    print (\"Video is \" + str (w_frame) + \" wide and \" + str (h_frame) + \" tall\")\n",
    "    \n",
    "    if h == None:\n",
    "        h = h_frame\n",
    "    if w == None:\n",
    "        w = w_frame\n",
    "    \n",
    "#     fourcc = cv2.VideoWriter_fourcc(*'XVID')\n",
    "    out = cv2.VideoWriter(outName, -1, fps, (w, h))\n",
    "    \n",
    "    prev = 0\n",
    "    frame_count = 0\n",
    "    while (video.isOpened ()):\n",
    "        ret, frame = video.read ()\n",
    "        \n",
    "        frame_count += 1\n",
    "        \n",
    "        if ret:\n",
    "            crop_frame = frame[y:h, x:w]\n",
    "            out.write (crop_frame)\n",
    "            \n",
    "            per = int (frame_count * 100 / frames)\n",
    "            if debug >= 1 and per != prev:\n",
    "                prev = per\n",
    "                print (outName + \" \" + str (per) + \"%\")\n",
    "            \n",
    "            if debug >= 2:\n",
    "                cv2.imshow('frame', frame)\n",
    "                cv2.imshow('croped', crop_frame)\n",
    "            \n",
    "            if cv2.waitKey (1) & 0xFF == ord('q'):\n",
    "                break\n",
    "        else:\n",
    "            break\n",
    "    \n",
    "    \n",
    "    out.release()\n",
    "    cv2.destroyAllWindows()"
   ]
  },
  {
   "cell_type": "code",
   "execution_count": null,
   "metadata": {},
   "outputs": [],
   "source": [
    "# debug = 0, no output; debug = 1, print percentage complete; debig = 2, display the cropped frame\n",
    "# x and y denote the starting locations, h and w denote the ending locations\n",
    "# for example, if you wish to crop an image from 1920 x 1080 to 1920 x 300, where it is 300 pixels from the bottom\n",
    "#    you would set y to 1080 - 300 = 780. If you want it 300 pixels from the top you'd leave y alone and set h to 300.\n",
    "videoCrop ('Corn_Row_Field_Sun.MP4', 'corn_row_sun_top.avi', y = 469, h = 744, debug = 1)\n",
    "videoCrop ('Corn_Row_Field_Sun.MP4', 'corn_row_sun_bottom.mp4', y = 744, h = 1080, debug = 1)"
   ]
  }
 ],
 "metadata": {
  "kernelspec": {
   "display_name": "Python 3",
   "language": "python",
   "name": "python3"
  },
  "language_info": {
   "codemirror_mode": {
    "name": "ipython",
    "version": 3
   },
   "file_extension": ".py",
   "mimetype": "text/x-python",
   "name": "python",
   "nbconvert_exporter": "python",
   "pygments_lexer": "ipython3",
   "version": "3.7.6"
  }
 },
 "nbformat": 4,
 "nbformat_minor": 4
}
